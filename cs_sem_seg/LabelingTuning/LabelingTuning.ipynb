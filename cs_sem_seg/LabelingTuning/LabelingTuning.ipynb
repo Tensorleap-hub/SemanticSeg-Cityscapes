{
 "cells": [
  {
   "cell_type": "code",
   "execution_count": 1,
   "id": "c23e0c97-564b-4618-a0aa-09307f1aa32a",
   "metadata": {},
   "outputs": [],
   "source": [
    "import sys\n",
    "sys.path.append('/Users/daniellebenbashat/TLProjects/projects_hub/SemanticSeg-Cityscapes')\n"
   ]
  },
  {
   "cell_type": "code",
   "execution_count": 3,
   "id": "cf8a494a-dffd-4ee9-9d05-b0b07cec8653",
   "metadata": {
    "scrolled": true
   },
   "outputs": [],
   "source": [
    "from typing import Union, List\n",
    "from enum import Enum\n",
    "import pandas as pd\n",
    "from cs_sem_seg.utils.kili_utils import _connect_to_kili\n",
    "from cs_sem_seg.configs import KILI_PROJECT_ID"
   ]
  },
  {
   "cell_type": "code",
   "execution_count": 6,
   "id": "9addbc17-1b57-40db-aafc-c7be19544e06",
   "metadata": {},
   "outputs": [],
   "source": [
    "# TL clustering algorithm types\n",
    "class TLClusterAlg(Enum):\n",
    "    Kmeans = \"kmeans\"\n",
    "    Bisecting = \"bisecting\"\n",
    "    EstimatedBisecting = \"estimated_bisecting\""
   ]
  },
  {
   "cell_type": "code",
   "execution_count": null,
   "id": "ee21d9f0-7f2b-4a7b-ad04-f3885dbe6293",
   "metadata": {},
   "outputs": [],
   "source": [
    "\n",
    "\n",
    "\n",
    "class SampleSelector:\n",
    "    def __init__(self, fpath):\n",
    "        # Read TL insights file\n",
    "        self.df = pd.read_csv(fpath, delimiter=\"\\t\")\n",
    "\n",
    "    def _fetch_unlabeled_cluster(self, alg: TLClusterAlg, label: int, dis_thresh: Union[float, None] = None) -> pd.DataFrame:\n",
    "        df = self.df.copy()\n",
    "        df = df[df[f\"clusters_{alg.value}\"] == label]\n",
    "        df = df[df.dataset_state == \"unlabeled\"]\n",
    "        if dis_thresh is None:\n",
    "            return df\n",
    "        return df[df[f\"distance_clusters_{alg.value}\"] < dis_thresh]\n",
    "\n",
    "    def _assign_kili_label(self, external_ids: List[str]):\n",
    "        kili = _connect_to_kili()\n",
    "        assets = kili.assets(project_id=KILI_PROJECT_ID, external_id_strictly_in=list(external_ids))\n",
    "        for sample in assets:\n",
    "            sample['status'] = 'TODO'       # convert the labels status to review again #TODO how to use the API?\n",
    "\n",
    "    def run_labeling_assignment(self, alg: TLClusterAlg, label: int, dis_thresh: Union[float, None] = None):\n",
    "        df = self._fetch_unlabeled_cluster(alg, label, dis_thresh)\n",
    "        external_ids = df[\"metadata.json_data_kili_external_id\"].values\n",
    "        self._assign_kili_label(external_ids)\n",
    "\n",
    "\n",
    "\n",
    "\n",
    "if __name__ == \"__main__\":\n",
    "fpath = \"/Users/daniellebenbashat/TL/data/kili/tl_analysis_kili.csv\"\n",
    "# read TL insights file\n",
    "    SampleSelector(fpath).run_labeling_assignment(TLClusterAlg.Kmeans, 4)\n",
    "\n"
   ]
  },
  {
   "cell_type": "code",
   "execution_count": 43,
   "id": "f6fcd7f5-c74f-4adf-957d-8e6a285a405d",
   "metadata": {},
   "outputs": [],
   "source": [
    "fpath = \"tl_analysis_kili.csv\"\n",
    "# read TL exported .csv with the insights results\n",
    "df = pd.read_csv(fpath, delimiter=\"\\t\")\n",
    "\n",
    "# filter by the chosen cluster\n",
    "alg = TLClusterAlg.Kmeans\n",
    "label = 4\n",
    "dis_thresh = 5\n",
    "sample = df[df[f\"clusters_{alg.value}\"] == label]\n",
    "\n",
    "# take the unlabeled samples\n",
    "sample = sample[sample.dataset_state == \"unlabeled\"]"
   ]
  },
  {
   "cell_type": "code",
   "execution_count": 44,
   "id": "45294f25-655f-4c64-b1e7-4a3f144d8c80",
   "metadata": {},
   "outputs": [
    {
     "data": {
      "text/plain": [
       "<Axes: ylabel='Frequency'>"
      ]
     },
     "execution_count": 44,
     "metadata": {},
     "output_type": "execute_result"
    },
    {
     "data": {
      "image/png": "[encoded data removed]",
      "text/plain": [
       "<Figure size 640x480 with 1 Axes>"
      ]
     },
     "metadata": {},
     "output_type": "display_data"
    }
   ],
   "source": [
    "sample[f\"distance_clusters_{alg.value}\"].plot(kind=\"hist\")"
   ]
  },
  {
   "cell_type": "code",
   "execution_count": 45,
   "id": "c3485eb7-db42-4989-8e45-083c4979e2df",
   "metadata": {},
   "outputs": [],
   "source": [
    "# choose the 50% most similar samples to cluster representation \n",
    "dis_thresh = sample[f\"distance_clusters_{alg.value}\"].quantile(q=0.5)\n",
    "sample = sample[sample[f\"distance_clusters_{alg.value}\"] < dis_thresh]"
   ]
  },
  {
   "cell_type": "code",
   "execution_count": 48,
   "id": "17a0ef3a-9e96-4046-b164-90dbeccb826a",
   "metadata": {},
   "outputs": [],
   "source": [
    "# get the selected samples kili identifiers\n",
    "external_ids = sample[\"metadata.json_data_kili_external_id\"].values"
   ]
  },
  {
   "cell_type": "code",
   "execution_count": 51,
   "id": "7c2d67a8-97e1-4e72-94cb-c1024e1ea1f2",
   "metadata": {},
   "outputs": [],
   "source": [
    "import os\n",
    "os.environ['AUTH_SECRET']=\"48df5983-7d6f-4601-ab65-83e6c435796b\""
   ]
  },
  {
   "cell_type": "code",
   "execution_count": 52,
   "id": "d8081a63-261b-493e-8206-238e2c85bd7f",
   "metadata": {},
   "outputs": [],
   "source": [
    "# connect to kili\n",
    "kili = _connect_to_kili()\n",
    "\n",
    "# get the selected samples\n",
    "assets = kili.assets(project_id=KILI_PROJECT_ID, external_id_strictly_in=list(external_ids))\n",
    "\n",
    " # convert the labels status to review manualy\n",
    "for sample in assets:\n",
    "    sample['status'] = 'TODO'   "
   ]
  },
  {
   "cell_type": "code",
   "execution_count": 55,
   "id": "31584551-d4db-442b-9085-bf235cf752db",
   "metadata": {},
   "outputs": [
    {
     "data": {
      "text/plain": [
       "'TODO'"
      ]
     },
     "execution_count": 55,
     "metadata": {},
     "output_type": "execute_result"
    }
   ],
   "source": []
  },
  {
   "cell_type": "code",
   "execution_count": null,
   "id": "a7565c7e-9cce-47f5-98ed-d571f21bb532",
   "metadata": {},
   "outputs": [],
   "source": []
  }
 ],
 "metadata": {
  "kernelspec": {
   "display_name": "Python 3 (ipykernel)",
   "language": "python",
   "name": "python3"
  },
  "language_info": {
   "codemirror_mode": {
    "name": "ipython",
    "version": 3
   },
   "file_extension": ".py",
   "mimetype": "text/x-python",
   "name": "python",
   "nbconvert_exporter": "python",
   "pygments_lexer": "ipython3",
   "version": "3.9.0"
  }
 },
 "nbformat": 4,
 "nbformat_minor": 5
}
